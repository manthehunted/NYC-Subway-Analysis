{
 "metadata": {
  "name": "",
  "signature": "sha256:0f6db7aa2c88e34cb85ec053bdb83e0becb6a25d2db3120b4ebb9d4ceb6da2de"
 },
 "nbformat": 3,
 "nbformat_minor": 0,
 "worksheets": [
  {
   "cells": [
    {
     "cell_type": "heading",
     "level": 2,
     "metadata": {},
     "source": [
      "What can data science tell about New York City (NYC) subway use?"
     ]
    },
    {
     "cell_type": "markdown",
     "metadata": {},
     "source": [
      "NYC subway is the busiest subway system in the United States and ranked as 7$^{th}$ busiest in the world! (according to Wikipedia, you can read more about it [below](#wiki)). That means many people are using the subway, and it serves as an essential transportation pipeline.\n",
      "\n",
      "Data science, a field of analyzing \"big\" data, has been gaining interest in the recent years. Metropolitan Transportation Autority (MTA), NY, actually collects data from subway stations and make it available to the public. This is a VERY good opportunity to use collected data and to see how extracted information via data science can be useful (for whoever with whatever purposes).\n",
      "\n",
      "So what kinds of questions are people (or I) interested in? \n",
      "For examples, \n",
      "    - When do people use the subway ?\n",
      "    - Do people use the subway more often when the weather is bad?\n",
      "    - etc... \n",
      "    \n",
      "There are numerous interesting questions you might have.\n",
      "\n",
      "Here, I have weather data, collected by Wunderground. Given the data (weather & subway), I would like to explore what factors (rain, weekday, and what not) influece the subway usage.\n"
     ]
    },
    {
     "cell_type": "markdown",
     "metadata": {},
     "source": [
      "Here is what kinds of data are contained in the file (turnstile_weather_v2.csv)."
     ]
    },
    {
     "cell_type": "code",
     "collapsed": false,
     "input": [
      "PDF('turnstile-weather-variables.pdf',size=(600,500))"
     ],
     "language": "python",
     "metadata": {},
     "outputs": [
      {
       "html": [
        "<iframe src=turnstile-weather-variables.pdf width=600 height=500></iframe>"
       ],
       "latex": [
        "\\includegraphics[width=1.0\\textwidth]{turnstile-weather-variables.pdf}"
       ],
       "metadata": {},
       "output_type": "pyout",
       "prompt_number": 12,
       "text": [
        "<__main__.PDF at 0x109e6d510>"
       ]
      }
     ],
     "prompt_number": 12
    },
    {
     "cell_type": "markdown",
     "metadata": {},
     "source": [
      "Here is a wikipedia page for the NYC subway <a id='wiki'></a>."
     ]
    },
    {
     "cell_type": "code",
     "collapsed": false,
     "input": [
      "from IPython.display import HTML\n",
      "HTML('<iframe src=http://en.mobile.wikipedia.org/wiki/New_York_City_Subway width=700 height=350></iframe>')"
     ],
     "language": "python",
     "metadata": {},
     "outputs": [
      {
       "html": [
        "<iframe src=http://en.mobile.wikipedia.org/wiki/New_York_City_Subway width=700 height=350></iframe>"
       ],
       "metadata": {},
       "output_type": "pyout",
       "prompt_number": 164,
       "text": [
        "<IPython.core.display.HTML at 0x128c70790>"
       ]
      }
     ],
     "prompt_number": 164
    },
    {
     "cell_type": "code",
     "collapsed": false,
     "input": [
      "#import necessary packages\n",
      "import numpy as np\n",
      "import pandas as pd\n",
      "import scipy.stats as ss\n",
      "import statsmodels.api as sm\n",
      "%pylab inline"
     ],
     "language": "python",
     "metadata": {},
     "outputs": [
      {
       "output_type": "stream",
       "stream": "stdout",
       "text": [
        "Populating the interactive namespace from numpy and matplotlib\n"
       ]
      }
     ],
     "prompt_number": 1
    },
    {
     "cell_type": "heading",
     "level": 6,
     "metadata": {},
     "source": [
      "import data"
     ]
    },
    {
     "cell_type": "code",
     "collapsed": false,
     "input": [
      "#import datasets\n",
      "data = pd.read_csv('turnstile_weather_v2.csv')\n",
      "\n",
      "#----clean some of the columns----\n",
      "data['datetime'] = pd.to_datetime(data['datetime'])\n",
      "\n",
      "#factorize the categorical values\n",
      "data['station'], station_index = pd.factorize(data['station'])\n",
      "data['conds'], station_index = pd.factorize(data['conds'])\n",
      "\n",
      "#add rider columns \n",
      "data['rider'] = 0\n",
      "data['rider'][data['ENTRIESn_hourly'] != 0] = 1\n",
      "#-----------------------------------------"
     ],
     "language": "python",
     "metadata": {},
     "outputs": [
      {
       "output_type": "stream",
       "stream": "stderr",
       "text": [
        "-c:13: SettingWithCopyWarning: \n",
        "A value is trying to be set on a copy of a slice from a DataFrame\n",
        "\n",
        "See the the caveats in the documentation: http://pandas.pydata.org/pandas-docs/stable/indexing.html#indexing-view-versus-copy\n"
       ]
      }
     ],
     "prompt_number": 2
    },
    {
     "cell_type": "markdown",
     "metadata": {},
     "source": [
      "I import the data (turnstile_weather_v2.csv) which contains both subway and weather data. Before processing data any further, I cleaned some of data a little so that it will be easier to work on later (I ended up not using those data though, it can be very useful for future explorations)\n"
     ]
    },
    {
     "cell_type": "heading",
     "level": 2,
     "metadata": {},
     "source": [
      "Section1. Statistical Test"
     ]
    },
    {
     "cell_type": "markdown",
     "metadata": {},
     "source": [
      "As a first step to examine the NYC subway usage, I try to see whether the distribution of ridership is similar between two conditions. By the way, I am going to use the following two words, the ridership and *ENTRIESn_hourly* (variable), interchangeably because the smaller the value of *ENTRIESn_hourly* is the shorter the time span from one passenger to another, thus, more passangers use the subway. \n",
      "\n",
      "I chose a condition to be windy or not-windy days. Intuitively, what questions this comparioson imposes is that is there any difference between the ridership between windy and not-windy days. If it is a windy day, I think people are more likely to take the subway or, at least, I will since I do not want to walk with strong wind blowing into my face."
     ]
    },
    {
     "cell_type": "markdown",
     "metadata": {},
     "source": [
      "To categorize whether the day is windy or not, I set the data whose *meanwspdi* is higher than 7 mpg as windy (i.e. high_wind), otherwise as not-windy (i.e. low_wind). The following shows the distribution of *ENTRIESn_hourly* from the two categories."
     ]
    },
    {
     "cell_type": "heading",
     "level": 6,
     "metadata": {},
     "source": [
      "Make histogram of ENTRIESn_hourly based on windy days and not-windy days <a id='fig1'></a>"
     ]
    },
    {
     "cell_type": "code",
     "collapsed": false,
     "input": [
      "meanwspdi = 7 #data['meanwspdi'].values\n",
      "high_wind = data[data['meanwspdi'] > meanwspdi]\n",
      "low_wind = data[data['meanwspdi'] <= meanwspdi]"
     ],
     "language": "python",
     "metadata": {},
     "outputs": [],
     "prompt_number": 44
    },
    {
     "cell_type": "code",
     "collapsed": false,
     "input": [
      "flag = False\n",
      "plt.figure(figsize = (10,5))\n",
      "plt.hist(high_wind['ENTRIESn_hourly'].values,bins=50,normed=flag,label='Windy')\n",
      "plt.hist(low_wind['ENTRIESn_hourly'].values,bins=50,normed=flag,alpha=0.5,label='Not windy')\n",
      "plt.legend(fontsize=18)\n",
      "plt.xlabel('Range of ENTRIESn_hourly', fontsize=18)\n",
      "plt.ylabel('Occurance', fontsize=18)\n",
      "plt.title('ENTRIESn_hourly Comparison of Windy days and Not-windy days',fontsize=22)"
     ],
     "language": "python",
     "metadata": {},
     "outputs": [
      {
       "metadata": {},
       "output_type": "pyout",
       "prompt_number": 45,
       "text": [
        "<matplotlib.text.Text at 0x10f750710>"
       ]
      },
      {
       "metadata": {},
       "output_type": "display_data",
       "png": "[encoded data removed]",
       "text": [
        "<matplotlib.figure.Figure at 0x10cbff6d0>"
       ]
      }
     ],
     "prompt_number": 45
    },
    {
     "cell_type": "heading",
     "level": 6,
     "metadata": {},
     "source": [
      "Figure 1: the figure shows the distribution of *ENTRIESn_hourly* under windy and not windy days."
     ]
    },
    {
     "cell_type": "markdown",
     "metadata": {},
     "source": [
      "(problem 1.2) Figure 1 clearly illustrates the distribution from either case is not normal distribution. To use an appropreate statistical test to compare the two distributions, I chose [the Mann-Whitney rank test](http://en.wikipedia.org/wiki/Mann%E2%80%93Whitney_U_test), which is appropriate because samples were independently collected and the distributions are not normal.\n",
      "\n",
      "The test will provide clues that whether or not two distributions came from the same underlying distribution (whatever it is). So a null hypothesis ($H$) that I am going to test is:\n",
      "\n",
      "    H: the two distributions are equivalent.\n",
      "    H': the two distributions are NOT equivalent.\n",
      "    \n",
      "Using the Mann-Whitney rank test from scipy.stat, here is what the results is:"
     ]
    },
    {
     "cell_type": "heading",
     "level": 6,
     "metadata": {},
     "source": [
      "The Mann-Whitney statistics on ENTRIESn_hourly from windy days and not-windy days <a id='test'></a>"
     ]
    },
    {
     "cell_type": "code",
     "collapsed": false,
     "input": [
      "print '(problem 1.3)'\n",
      "U, p = ss.mannwhitneyu(high_wind['ENTRIESn_hourly'].values,low_wind['ENTRIESn_hourly'].values)\n",
      "print 'The Mann-Whitney statistics is {0}, and the associated p-value is {1} (two-sided tail)'.format(U,2*p)\n",
      "print 'The mean ENTRIESn_hourly of windy group is {0}, and that of not-windy is {1}'.format(high_wind['ENTRIESn_hourly'].mean(),\n",
      "                                                                                            low_wind['ENTRIESn_hourly'].mean())"
     ],
     "language": "python",
     "metadata": {},
     "outputs": [
      {
       "output_type": "stream",
       "stream": "stdout",
       "text": [
        "(problem 1.3)\n",
        "The Mann-Whitney statistics is 208980240.0, and the associated p-value is 9.39402856444e-25 (two-sided tail)\n",
        "The mean ENTRIESn_hourly of windy group is 1753.99433711, and that of not-windy is 1983.53001583\n"
       ]
      }
     ],
     "prompt_number": 168
    },
    {
     "cell_type": "markdown",
     "metadata": {},
     "source": [
      "(problem 1.1) Given the number of observations on the two independent groups (windy vs. not-windy), a calculated Mann-Whitney statistics was 208980240 and the probablity observing such value was 9.39e-25 (p-value is 2*p because my hypothesis was to test whether the two distributions are equal or not). This means that an observation of the calculated Mann-Whitney statistics value is unlikely, which equivalently states that the two distributions are not equivalent one to another.\n",
      "\n",
      "(problem 1.4) What does this test tell me? It basically gave me a clue that the distribution of the ridership from windy days and non-windy days is different from each other. But how different, or what is different? The answer is I do not know. All I know is the observations from two categories did not come from the same underlying cause. \n",
      "\n",
      "So can this information be useful to infer the ridership? Before move on to the next questions, I also want to point out another aspect of distribution comparison; that is, probability density. The number of observations from windy days was 18012, and that from not-windy day was 24637. It does not seem to be a large difference considering the fact that the subway data was taken frequenctly.    \n",
      "\n",
      "Nevertheless, to mitigate the sample size effect, I converted occurance to probability (normalize the histogram from Figure 1 by the total area under the bars). The probability density of windy $vs.$ non-windy looks like the following now."
     ]
    },
    {
     "cell_type": "heading",
     "level": 6,
     "metadata": {},
     "source": [
      "Make probability density of ENTRIESn_hourly based on windy days and not-windy days"
     ]
    },
    {
     "cell_type": "code",
     "collapsed": false,
     "input": [
      "flag = True\n",
      "plt.figure(figsize = (10,5))\n",
      "plt.hist(high_wind['ENTRIESn_hourly'].values,bins=50,normed=flag,label='high')\n",
      "plt.hist(low_wind['ENTRIESn_hourly'].values,bins=50,normed=flag,alpha=0.5,label='low')\n",
      "plt.legend(fontsize=18)\n",
      "plt.xlabel('Range of ENTRIESn_hourly', fontsize=18)\n",
      "plt.ylabel('Occurance Density', fontsize=18)\n",
      "plt.title('ENTRIESn_hourly Density Comparison of Windy days and Not-windy days',fontsize=22)"
     ],
     "language": "python",
     "metadata": {},
     "outputs": [
      {
       "metadata": {},
       "output_type": "pyout",
       "prompt_number": 34,
       "text": [
        "<matplotlib.text.Text at 0x10d7f8050>"
       ]
      },
      {
       "metadata": {},
       "output_type": "display_data",
       "png": "[encoded data removed]",
       "text": [
        "<matplotlib.figure.Figure at 0x10df7a710>"
       ]
      }
     ],
     "prompt_number": 34
    },
    {
     "cell_type": "heading",
     "level": 6,
     "metadata": {},
     "source": [
      "Figure 2: the figure shows the probability of *ENTRIESn_hourly* under windy and not windy days."
     ]
    },
    {
     "cell_type": "markdown",
     "metadata": {},
     "source": [
      "Now it looks very different from [Figure 1](#fig1), namely the two probability densities are very similar. So what can I tell from this? This suggests that the proportion of the ridership in windy days and not-windy days is actually very similar. In other words, since observations of windy days were less than those of not-windy days, the differences observed in Figure 1 were seemingly due to the difference in the numbers of observations on *ENTRIESn_hourly*. \n",
      "\n",
      "Despite the fact that the Mann-Whitney rank test takes sample size into account and resulted in stating the two distributions were different, the probability density comparison told me that the proportion of two distributions was in fact **similar**.\n",
      "\n",
      "I think I need to be careful not to jump into any conclusion about the ridership based on wind conditions just by looking at the statistical test itself. \n",
      "\n",
      "However, it is still important to see whether or not wind conditions are going to be useful to infer the ridership in any way.\n",
      "\n",
      "So let's move on to the next question and I will figure it out."
     ]
    },
    {
     "cell_type": "heading",
     "level": 2,
     "metadata": {},
     "source": [
      "Section 2. Linear Regression"
     ]
    },
    {
     "cell_type": "markdown",
     "metadata": {},
     "source": [
      "Linear regression is another statistical tool that allows to explore whether a particular factor has a significant relationship with outcome (in linear sense) and to predict outcomes.\n",
      "\n",
      "Before performing any analysis, I need to carefully handle features I select. For example, if one feature (denoted as A) ranges from 0 to 1 and another (denoted as B) ranges from 1000 to 5000, then B will overwhelmingly reflect in prediction simply because its magnitude is more than 3-fold of A. To prevent such effect, I borrowed the following function to normalize the values of a feature."
     ]
    },
    {
     "cell_type": "code",
     "collapsed": false,
     "input": [
      "#borrowed from Udacity\n",
      "def normalize_features(df):\n",
      "    \"\"\"\n",
      "    Normalize the features in the data set.\n",
      "    \"\"\"\n",
      "    mu = df.mean()\n",
      "    sigma = df.std()\n",
      "    \n",
      "    if (sigma == 0).any():\n",
      "        raise Exception(\"One or more features had the same value for all samples, and thus could \" + \\\n",
      "                         \"not be normalized. Please do not include features with only a single value \" + \\\n",
      "                         \"in your model.\")\n",
      "    df_normalized = (df - df.mean()) / df.std()\n",
      "\n",
      "    return df_normalized, mu, sigma"
     ],
     "language": "python",
     "metadata": {},
     "outputs": [],
     "prompt_number": 4
    },
    {
     "cell_type": "markdown",
     "metadata": {},
     "source": [
      "(problem 2.1) To model a linear regression, I used OLS (Ordinary Least Squared) function from *statsmodels* package.  Briefly, what OLS achieves is that it tries to fit a polynomial function to a given outcome based on selected features by minimizing the squared difference between the predicted outcome and the actual outcome. In this analysis, I am going to stick with a linear model (no feature whose power is raised more than one is used).\n",
      "\n",
      "So what kinds of feature will be useful to infer *ENTRIESn_hourly*? As a initial starting point, I selected 1) *hour*, 2) *weekday*, 3) *rain*, 4) *meantempi,* and 5) *UNIT.*  Note that *UNIT* is a categorical variable, thus, I introduce it in OLS model as a dummy variable.\n",
      "\n",
      "Intuitively, my selections make sense. \n",
      "\n",
      "    hour: Because I know there is rush-hour, hour must be informative about the ridership.\n",
      "    \n",
      "    weekday: I guess more people use the subway during weekdays because they commute and use less in weekends. \n",
      "    \n",
      "    rain: if rain, then even more people will use the subway to avoid getting wet.\n",
      "    \n",
      "    meantempi: if it is hot or cold such that it makes people not to walk outside, they may likely take the subway.\n",
      "    \n",
      "    UNIT: without this, any OLS result is disastrous. So I think UNIT serves as a baseline feature.\n",
      "    \n",
      "The results from the OLS model with these features are shown below."
     ]
    },
    {
     "cell_type": "heading",
     "level": 6,
     "metadata": {},
     "source": [
      "Fit OLS with the initial features"
     ]
    },
    {
     "cell_type": "code",
     "collapsed": false,
     "input": [
      "d = data\n",
      "\n",
      "#outcome\n",
      "y = d['ENTRIESn_hourly'].values\n",
      "\n",
      "#features selection and normalization\n",
      "features = d[['hour', 'weekday', 'rain', 'meantempi']]\n",
      "dummy_units1 = pd.get_dummies(d['UNIT'], prefix='unit')\n",
      "features = features.join(dummy_units1)\n",
      "features, mu, sigma = normalize_features(features)\n",
      "m = len(y)\n",
      "features['intercept'] = np.ones(m) # Add a column of constant (y intercept)\n",
      "\n",
      "#model fit\n",
      "model = sm.OLS(y, features,)\n",
      "results = model.fit()\n",
      "xname = ['hour','weekday','rain','meantempi','intercept']\n",
      "results.summary(xname=xname)"
     ],
     "language": "python",
     "metadata": {},
     "outputs": [
      {
       "html": [
        "<table class=\"simpletable\">\n",
        "<caption>OLS Regression Results</caption>\n",
        "<tr>\n",
        "  <th>Dep. Variable:</th>            <td>y</td>        <th>  R-squared:         </th>  <td>   0.482</td>  \n",
        "</tr>\n",
        "<tr>\n",
        "  <th>Model:</th>                   <td>OLS</td>       <th>  Adj. R-squared:    </th>  <td>   0.479</td>  \n",
        "</tr>\n",
        "<tr>\n",
        "  <th>Method:</th>             <td>Least Squares</td>  <th>  F-statistic:       </th>  <td>   162.6</td>  \n",
        "</tr>\n",
        "<tr>\n",
        "  <th>Date:</th>             <td>Sat, 14 Feb 2015</td> <th>  Prob (F-statistic):</th>   <td>  0.00</td>   \n",
        "</tr>\n",
        "<tr>\n",
        "  <th>Time:</th>                 <td>22:28:26</td>     <th>  Log-Likelihood:    </th> <td>-3.8726e+05</td>\n",
        "</tr>\n",
        "<tr>\n",
        "  <th>No. Observations:</th>      <td> 42649</td>      <th>  AIC:               </th>  <td>7.750e+05</td> \n",
        "</tr>\n",
        "<tr>\n",
        "  <th>Df Residuals:</th>          <td> 42405</td>      <th>  BIC:               </th>  <td>7.771e+05</td> \n",
        "</tr>\n",
        "<tr>\n",
        "  <th>Df Model:</th>              <td>   243</td>      <th>                     </th>      <td> </td>     \n",
        "</tr>\n",
        "<tr>\n",
        "  <th>Covariance Type:</th>      <td>nonrobust</td>    <th>                     </th>      <td> </td>     \n",
        "</tr>\n",
        "</table>\n",
        "<table class=\"simpletable\">\n",
        "<tr>\n",
        "      <td></td>         <th>coef</th>     <th>std err</th>      <th>t</th>      <th>P>|t|</th> <th>[95.0% Conf. Int.]</th> \n",
        "</tr>\n",
        "<tr>\n",
        "  <th>hour</th>      <td>  862.8657</td> <td>   13.426</td> <td>   64.270</td> <td> 0.000</td> <td>  836.551   889.180</td>\n",
        "</tr>\n",
        "<tr>\n",
        "  <th>weekday</th>   <td>  444.6138</td> <td>   10.448</td> <td>   42.554</td> <td> 0.000</td> <td>  424.135   465.092</td>\n",
        "</tr>\n",
        "<tr>\n",
        "  <th>rain</th>      <td>  -15.5935</td> <td>   11.009</td> <td>   -1.416</td> <td> 0.157</td> <td>  -37.171     5.984</td>\n",
        "</tr>\n",
        "<tr>\n",
        "  <th>meantempi</th> <td>  -96.4489</td> <td>   10.943</td> <td>   -8.814</td> <td> 0.000</td> <td> -117.897   -75.000</td>\n",
        "</tr>\n",
        "<tr>\n",
        "  <th>intercept</th> <td> 1.289e+14</td> <td> 1.68e+14</td> <td>    0.765</td> <td> 0.444</td> <td>-2.01e+14  4.59e+14</td>\n",
        "</tr>\n",
        "</table>\n",
        "<table class=\"simpletable\">\n",
        "<tr>\n",
        "  <th>Omnibus:</th>       <td>27403.443</td> <th>  Durbin-Watson:     </th>  <td>   1.617</td> \n",
        "</tr>\n",
        "<tr>\n",
        "  <th>Prob(Omnibus):</th>  <td> 0.000</td>   <th>  Jarque-Bera (JB):  </th> <td>812191.282</td>\n",
        "</tr>\n",
        "<tr>\n",
        "  <th>Skew:</th>           <td> 2.633</td>   <th>  Prob(JB):          </th>  <td>    0.00</td> \n",
        "</tr>\n",
        "<tr>\n",
        "  <th>Kurtosis:</th>       <td>23.720</td>   <th>  Cond. No.          </th>  <td>3.03e+14</td> \n",
        "</tr>\n",
        "</table>"
       ],
       "metadata": {},
       "output_type": "pyout",
       "prompt_number": 5,
       "text": [
        "<class 'statsmodels.iolib.summary.Summary'>\n",
        "\"\"\"\n",
        "                            OLS Regression Results                            \n",
        "==============================================================================\n",
        "Dep. Variable:                      y   R-squared:                       0.482\n",
        "Model:                            OLS   Adj. R-squared:                  0.479\n",
        "Method:                 Least Squares   F-statistic:                     162.6\n",
        "Date:                Sat, 14 Feb 2015   Prob (F-statistic):               0.00\n",
        "Time:                        22:28:26   Log-Likelihood:            -3.8726e+05\n",
        "No. Observations:               42649   AIC:                         7.750e+05\n",
        "Df Residuals:                   42405   BIC:                         7.771e+05\n",
        "Df Model:                         243                                         \n",
        "Covariance Type:            nonrobust                                         \n",
        "==============================================================================\n",
        "                 coef    std err          t      P>|t|      [95.0% Conf. Int.]\n",
        "------------------------------------------------------------------------------\n",
        "hour         862.8657     13.426     64.270      0.000       836.551   889.180\n",
        "weekday      444.6138     10.448     42.554      0.000       424.135   465.092\n",
        "rain         -15.5935     11.009     -1.416      0.157       -37.171     5.984\n",
        "meantempi    -96.4489     10.943     -8.814      0.000      -117.897   -75.000\n",
        "intercept   1.289e+14   1.68e+14      0.765      0.444     -2.01e+14  4.59e+14\n",
        "==============================================================================\n",
        "Omnibus:                    27403.443   Durbin-Watson:                   1.617\n",
        "Prob(Omnibus):                  0.000   Jarque-Bera (JB):           812191.282\n",
        "Skew:                           2.633   Prob(JB):                         0.00\n",
        "Kurtosis:                      23.720   Cond. No.                     3.03e+14\n",
        "==============================================================================\n",
        "\n",
        "Warnings:\n",
        "[1] Standard Errors assume that the covariance matrix of the errors is correctly specified.\n",
        "[2] The smallest eigenvalue is 6.31e-25. This might indicate that there are\n",
        "strong multicollinearity problems or that the design matrix is singular.\n",
        "\"\"\""
       ]
      }
     ],
     "prompt_number": 5
    },
    {
     "cell_type": "markdown",
     "metadata": {},
     "source": [
      "But are these the only features that are informative about the ridership? It is unlikely! So I continue exploring by adding and removing features exhaustively (by my hand), and re-fit the model to obtain better R-squared value, which indicates a goodness of fit.\n",
      "The below is the improved model with some additional features."
     ]
    },
    {
     "cell_type": "heading",
     "level": 6,
     "metadata": {},
     "source": [
      "Fit OLS with the improved features set <a id='OLS'></a>"
     ]
    },
    {
     "cell_type": "code",
     "collapsed": false,
     "input": [
      "#new feature sets\n",
      "features = d[['day_week', 'hour', 'meantempi','weekday']]  \n",
      "dummy_units1 = pd.get_dummies(d['UNIT'], prefix='unit')\n",
      "dummy_units2 = pd.get_dummies(d['conds'], prefix='conds')\n",
      "features = features.join(dummy_units1)\n",
      "features = features.join(dummy_units2)\n",
      "features, mu, sigma = normalize_features(features)\n",
      "m = len(y)\n",
      "features['ones'] = np.ones(m) # Add a column of constant (y intercept)\n",
      "\n",
      "# fit\n",
      "model = sm.OLS(y, features,)\n",
      "results = model.fit()\n",
      "improved_features = ['day_week', 'hour', 'meantempi','weekday','intercept']\n",
      "results.summary(xname = improved_features)"
     ],
     "language": "python",
     "metadata": {},
     "outputs": [
      {
       "html": [
        "<table class=\"simpletable\">\n",
        "<caption>OLS Regression Results</caption>\n",
        "<tr>\n",
        "  <th>Dep. Variable:</th>            <td>y</td>        <th>  R-squared:         </th>  <td>   0.487</td>  \n",
        "</tr>\n",
        "<tr>\n",
        "  <th>Model:</th>                   <td>OLS</td>       <th>  Adj. R-squared:    </th>  <td>   0.484</td>  \n",
        "</tr>\n",
        "<tr>\n",
        "  <th>Method:</th>             <td>Least Squares</td>  <th>  F-statistic:       </th>  <td>   158.4</td>  \n",
        "</tr>\n",
        "<tr>\n",
        "  <th>Date:</th>             <td>Sat, 14 Feb 2015</td> <th>  Prob (F-statistic):</th>   <td>  0.00</td>   \n",
        "</tr>\n",
        "<tr>\n",
        "  <th>Time:</th>                 <td>22:28:35</td>     <th>  Log-Likelihood:    </th> <td>-3.8707e+05</td>\n",
        "</tr>\n",
        "<tr>\n",
        "  <th>No. Observations:</th>      <td> 42649</td>      <th>  AIC:               </th>  <td>7.746e+05</td> \n",
        "</tr>\n",
        "<tr>\n",
        "  <th>Df Residuals:</th>          <td> 42394</td>      <th>  BIC:               </th>  <td>7.769e+05</td> \n",
        "</tr>\n",
        "<tr>\n",
        "  <th>Df Model:</th>              <td>   254</td>      <th>                     </th>      <td> </td>     \n",
        "</tr>\n",
        "<tr>\n",
        "  <th>Covariance Type:</th>      <td>nonrobust</td>    <th>                     </th>      <td> </td>     \n",
        "</tr>\n",
        "</table>\n",
        "<table class=\"simpletable\">\n",
        "<tr>\n",
        "      <td></td>         <th>coef</th>     <th>std err</th>      <th>t</th>      <th>P>|t|</th> <th>[95.0% Conf. Int.]</th> \n",
        "</tr>\n",
        "<tr>\n",
        "  <th>day_week</th>  <td>  128.7684</td> <td>   18.299</td> <td>    7.037</td> <td> 0.000</td> <td>   92.902   164.634</td>\n",
        "</tr>\n",
        "<tr>\n",
        "  <th>hour</th>      <td>  856.9750</td> <td>   10.530</td> <td>   81.384</td> <td> 0.000</td> <td>  836.336   877.614</td>\n",
        "</tr>\n",
        "<tr>\n",
        "  <th>meantempi</th> <td> -130.2991</td> <td>   12.110</td> <td>  -10.760</td> <td> 0.000</td> <td> -154.035  -106.563</td>\n",
        "</tr>\n",
        "<tr>\n",
        "  <th>weekday</th>   <td>  532.8213</td> <td>   18.023</td> <td>   29.564</td> <td> 0.000</td> <td>  497.497   568.146</td>\n",
        "</tr>\n",
        "<tr>\n",
        "  <th>intercept</th> <td> 2.958e+13</td> <td> 3.08e+14</td> <td>    0.096</td> <td> 0.923</td> <td>-5.73e+14  6.33e+14</td>\n",
        "</tr>\n",
        "</table>\n",
        "<table class=\"simpletable\">\n",
        "<tr>\n",
        "  <th>Omnibus:</th>       <td>27525.497</td> <th>  Durbin-Watson:     </th>  <td>   1.619</td> \n",
        "</tr>\n",
        "<tr>\n",
        "  <th>Prob(Omnibus):</th>  <td> 0.000</td>   <th>  Jarque-Bera (JB):  </th> <td>827773.294</td>\n",
        "</tr>\n",
        "<tr>\n",
        "  <th>Skew:</th>           <td> 2.646</td>   <th>  Prob(JB):          </th>  <td>    0.00</td> \n",
        "</tr>\n",
        "<tr>\n",
        "  <th>Kurtosis:</th>       <td>23.924</td>   <th>  Cond. No.          </th>  <td>7.02e+14</td> \n",
        "</tr>\n",
        "</table>"
       ],
       "metadata": {},
       "output_type": "pyout",
       "prompt_number": 6,
       "text": [
        "<class 'statsmodels.iolib.summary.Summary'>\n",
        "\"\"\"\n",
        "                            OLS Regression Results                            \n",
        "==============================================================================\n",
        "Dep. Variable:                      y   R-squared:                       0.487\n",
        "Model:                            OLS   Adj. R-squared:                  0.484\n",
        "Method:                 Least Squares   F-statistic:                     158.4\n",
        "Date:                Sat, 14 Feb 2015   Prob (F-statistic):               0.00\n",
        "Time:                        22:28:35   Log-Likelihood:            -3.8707e+05\n",
        "No. Observations:               42649   AIC:                         7.746e+05\n",
        "Df Residuals:                   42394   BIC:                         7.769e+05\n",
        "Df Model:                         254                                         \n",
        "Covariance Type:            nonrobust                                         \n",
        "==============================================================================\n",
        "                 coef    std err          t      P>|t|      [95.0% Conf. Int.]\n",
        "------------------------------------------------------------------------------\n",
        "day_week     128.7684     18.299      7.037      0.000        92.902   164.634\n",
        "hour         856.9750     10.530     81.384      0.000       836.336   877.614\n",
        "meantempi   -130.2991     12.110    -10.760      0.000      -154.035  -106.563\n",
        "weekday      532.8213     18.023     29.564      0.000       497.497   568.146\n",
        "intercept   2.958e+13   3.08e+14      0.096      0.923     -5.73e+14  6.33e+14\n",
        "==============================================================================\n",
        "Omnibus:                    27525.497   Durbin-Watson:                   1.619\n",
        "Prob(Omnibus):                  0.000   Jarque-Bera (JB):           827773.294\n",
        "Skew:                           2.646   Prob(JB):                         0.00\n",
        "Kurtosis:                      23.924   Cond. No.                     7.02e+14\n",
        "==============================================================================\n",
        "\n",
        "Warnings:\n",
        "[1] Standard Errors assume that the covariance matrix of the errors is correctly specified.\n",
        "[2] The smallest eigenvalue is 1.67e-25. This might indicate that there are\n",
        "strong multicollinearity problems or that the design matrix is singular.\n",
        "\"\"\""
       ]
      }
     ],
     "prompt_number": 6
    },
    {
     "cell_type": "markdown",
     "metadata": {},
     "source": [
      "<a id='features'></a>\n",
      "(problem 2.2) So the features I end up using were: 1) *hour*, 2) *meantempi*, 3) *weekday*, 4) *UNIT*, and 5) *day_week* (new) and 6) *conds* (new dummy). \n",
      "\n",
      "(problem 2.3) The reasons behind these selections are very similar as the previous.\n",
      "\n",
      "    - day_week: Besides two categories in weekday (weekday vs. weekend), every day may have different ridership patterns. \n",
      "    - conds: Instead of considering only rain (or not rain), conds takes into account other weather conditions (e.g. fog, sunny, cloudy, and so forth). Thus, an introduction of various weather conditions can capture the ridership dependency more precisely.\n",
      "    \n",
      "Indeed, the two additional features increased R-squared value slightly (i.e. better fitting).\n",
      "\n",
      "(problem 2.4) To understand the relationship between each feature and the outcome (i.e. *ENTRIESn_hourly*), I look at each coefficient in the OLS model (see *coef* column [above](#OLS)). Ignore the dummy variables for now (*UNIT* and *conds*), *meantempi* has a negative coefficient and other features are all positive.\n",
      "\n",
      "What this tells me is that *ENTRIESn_hourly* decreases as *meantempi* increases. In other words, as temperature of that day becomes higher, *ENTRIESn_hourly* **tends** to become shorter and the ridership **tends** increases. Similarly for the features with positive coeffients, their increase **tends** to increase *ENTRIESn_hourly*, thereby, to decrease the ridership. The magnitude of the coefficients reflects strength of association between a feature and the outcome. Therefore, *hour* has the strongest correlation with the ridership (i.e. the ridership decreases as the time proceeds.)\n",
      "\n",
      "(problem 2.5 & 2.6) An ideal R-squared is 1, which means a prediction by a linear model with selected features can predict an outcome with 100% accuracy. This being said, my R-squared is 0.487, which is about half of the ideal case. This tells me that though the linear model with my features may predict some of outcomes, it cannot predict broard range of outcomes with high accuracy. So the model is not good but not horribly bad, but definitely need better models or features to be practical.\n",
      "\n",
      "Since linear model fitting can tell me a lot, I think it will be interesting to see whether wind conditions discussed in Section 1 will provide any information about the ridership. Here is the result from the model with *meanwspdi* added."
     ]
    },
    {
     "cell_type": "heading",
     "level": 6,
     "metadata": {},
     "source": [
      "Fit OLS with meanwspdi in addtion to the improved features set"
     ]
    },
    {
     "cell_type": "code",
     "collapsed": false,
     "input": [
      "#new feature sets\n",
      "features = d[['day_week', 'hour', 'meantempi','weekday','meanwspdi']]  \n",
      "dummy_units1 = pd.get_dummies(d['UNIT'], prefix='unit')\n",
      "dummy_units2 = pd.get_dummies(d['conds'], prefix='conds')\n",
      "features = features.join(dummy_units1)\n",
      "features = features.join(dummy_units2)\n",
      "features, mu, sigma = normalize_features(features)\n",
      "m = len(y)\n",
      "features['ones'] = np.ones(m) # Add a column of constant (y intercept)\n",
      "\n",
      "# fit\n",
      "model = sm.OLS(y, features,)\n",
      "results = model.fit()\n",
      "xname = improved_features + ['meanwspdi']\n",
      "results.summary(xname = xname)"
     ],
     "language": "python",
     "metadata": {},
     "outputs": [
      {
       "html": [
        "<table class=\"simpletable\">\n",
        "<caption>OLS Regression Results</caption>\n",
        "<tr>\n",
        "  <th>Dep. Variable:</th>            <td>y</td>        <th>  R-squared:         </th>  <td>   0.487</td>  \n",
        "</tr>\n",
        "<tr>\n",
        "  <th>Model:</th>                   <td>OLS</td>       <th>  Adj. R-squared:    </th>  <td>   0.484</td>  \n",
        "</tr>\n",
        "<tr>\n",
        "  <th>Method:</th>             <td>Least Squares</td>  <th>  F-statistic:       </th>  <td>   157.8</td>  \n",
        "</tr>\n",
        "<tr>\n",
        "  <th>Date:</th>             <td>Sat, 14 Feb 2015</td> <th>  Prob (F-statistic):</th>   <td>  0.00</td>   \n",
        "</tr>\n",
        "<tr>\n",
        "  <th>Time:</th>                 <td>21:47:37</td>     <th>  Log-Likelihood:    </th> <td>-3.8707e+05</td>\n",
        "</tr>\n",
        "<tr>\n",
        "  <th>No. Observations:</th>      <td> 42649</td>      <th>  AIC:               </th>  <td>7.746e+05</td> \n",
        "</tr>\n",
        "<tr>\n",
        "  <th>Df Residuals:</th>          <td> 42393</td>      <th>  BIC:               </th>  <td>7.769e+05</td> \n",
        "</tr>\n",
        "<tr>\n",
        "  <th>Df Model:</th>              <td>   255</td>      <th>                     </th>      <td> </td>     \n",
        "</tr>\n",
        "<tr>\n",
        "  <th>Covariance Type:</th>      <td>nonrobust</td>    <th>                     </th>      <td> </td>     \n",
        "</tr>\n",
        "</table>\n",
        "<table class=\"simpletable\">\n",
        "<tr>\n",
        "      <td></td>         <th>coef</th>     <th>std err</th>      <th>t</th>      <th>P>|t|</th> <th>[95.0% Conf. Int.]</th> \n",
        "</tr>\n",
        "<tr>\n",
        "  <th>day_week</th>  <td>  142.6780</td> <td>   19.319</td> <td>    7.385</td> <td> 0.000</td> <td>  104.812   180.544</td>\n",
        "</tr>\n",
        "<tr>\n",
        "  <th>hour</th>      <td>  857.1666</td> <td>   10.410</td> <td>   82.339</td> <td> 0.000</td> <td>  836.762   877.571</td>\n",
        "</tr>\n",
        "<tr>\n",
        "  <th>meantempi</th> <td> -125.6941</td> <td>   12.307</td> <td>  -10.213</td> <td> 0.000</td> <td> -149.817  -101.571</td>\n",
        "</tr>\n",
        "<tr>\n",
        "  <th>weekday</th>   <td>  537.2709</td> <td>   18.171</td> <td>   29.567</td> <td> 0.000</td> <td>  501.655   572.887</td>\n",
        "</tr>\n",
        "<tr>\n",
        "  <th>intercept</th> <td>   30.4434</td> <td>   15.203</td> <td>    2.002</td> <td> 0.045</td> <td>    0.645    60.242</td>\n",
        "</tr>\n",
        "<tr>\n",
        "  <th>meanwspdi</th> <td>-3.809e+13</td> <td> 2.92e+14</td> <td>   -0.130</td> <td> 0.896</td> <td> -6.1e+14  5.34e+14</td>\n",
        "</tr>\n",
        "</table>\n",
        "<table class=\"simpletable\">\n",
        "<tr>\n",
        "  <th>Omnibus:</th>       <td>27527.624</td> <th>  Durbin-Watson:     </th>  <td>   1.619</td> \n",
        "</tr>\n",
        "<tr>\n",
        "  <th>Prob(Omnibus):</th>  <td> 0.000</td>   <th>  Jarque-Bera (JB):  </th> <td>828564.523</td>\n",
        "</tr>\n",
        "<tr>\n",
        "  <th>Skew:</th>           <td> 2.646</td>   <th>  Prob(JB):          </th>  <td>    0.00</td> \n",
        "</tr>\n",
        "<tr>\n",
        "  <th>Kurtosis:</th>       <td>23.935</td>   <th>  Cond. No.          </th>  <td>1.10e+15</td> \n",
        "</tr>\n",
        "</table>"
       ],
       "metadata": {},
       "output_type": "pyout",
       "prompt_number": 12,
       "text": [
        "<class 'statsmodels.iolib.summary.Summary'>\n",
        "\"\"\"\n",
        "                            OLS Regression Results                            \n",
        "==============================================================================\n",
        "Dep. Variable:                      y   R-squared:                       0.487\n",
        "Model:                            OLS   Adj. R-squared:                  0.484\n",
        "Method:                 Least Squares   F-statistic:                     157.8\n",
        "Date:                Sat, 14 Feb 2015   Prob (F-statistic):               0.00\n",
        "Time:                        21:47:37   Log-Likelihood:            -3.8707e+05\n",
        "No. Observations:               42649   AIC:                         7.746e+05\n",
        "Df Residuals:                   42393   BIC:                         7.769e+05\n",
        "Df Model:                         255                                         \n",
        "Covariance Type:            nonrobust                                         \n",
        "==============================================================================\n",
        "                 coef    std err          t      P>|t|      [95.0% Conf. Int.]\n",
        "------------------------------------------------------------------------------\n",
        "day_week     142.6780     19.319      7.385      0.000       104.812   180.544\n",
        "hour         857.1666     10.410     82.339      0.000       836.762   877.571\n",
        "meantempi   -125.6941     12.307    -10.213      0.000      -149.817  -101.571\n",
        "weekday      537.2709     18.171     29.567      0.000       501.655   572.887\n",
        "intercept     30.4434     15.203      2.002      0.045         0.645    60.242\n",
        "meanwspdi  -3.809e+13   2.92e+14     -0.130      0.896      -6.1e+14  5.34e+14\n",
        "==============================================================================\n",
        "Omnibus:                    27527.624   Durbin-Watson:                   1.619\n",
        "Prob(Omnibus):                  0.000   Jarque-Bera (JB):           828564.523\n",
        "Skew:                           2.646   Prob(JB):                         0.00\n",
        "Kurtosis:                      23.935   Cond. No.                     1.10e+15\n",
        "==============================================================================\n",
        "\n",
        "Warnings:\n",
        "[1] Standard Errors assume that the covariance matrix of the errors is correctly specified.\n",
        "[2] The smallest eigenvalue is 8.37e-26. This might indicate that there are\n",
        "strong multicollinearity problems or that the design matrix is singular.\n",
        "\"\"\""
       ]
      }
     ],
     "prompt_number": 12
    },
    {
     "cell_type": "markdown",
     "metadata": {},
     "source": [
      "As a result, though *meanwspdi* has a positive coefficient, the value is relatively smaller compared with the other features. This convinced me that wind conditions are less significantly associated with the ridership in terms of the prediction despite [the statistical test](#test). "
     ]
    },
    {
     "cell_type": "heading",
     "level": 2,
     "metadata": {},
     "source": [
      "Section 3. Visualization"
     ]
    },
    {
     "cell_type": "markdown",
     "metadata": {},
     "source": [
      "Visualization is another important aspect of data science. I can simply present numbers after numbers, but such presentation is hard for audience to understand the importance of numbers. I am quite a visually-oriented person, so I am going to make figures so that audience (not just myself) can understand the analysis.\n",
      "\n",
      "(problem 3.1) The following figure is a comparison of the distribution of *ENTRIESn_hourly* between rainy and not-rainy days (similar to Figure 1). "
     ]
    },
    {
     "cell_type": "heading",
     "level": 6,
     "metadata": {},
     "source": [
      "Make histogram of ENTRIESn_hourly based on rainy days and not-rainy days"
     ]
    },
    {
     "cell_type": "code",
     "collapsed": false,
     "input": [
      "flag = False\n",
      "plt.hist(data[data['rain'] == 1]['ENTRIESn_hourly'].values,bins = 50,normed=flag,label = 'rain')\n",
      "plt.hist(data[data['rain'] == 0]['ENTRIESn_hourly'].values,bins = 50,normed=flag,alpha=0.5,label = 'no rain')\n",
      "plt.legend(fontsize = 18)\n",
      "plt.xlabel('Range of ENTRIESn_hourly',fontsize = 18)\n",
      "plt.ylabel('Occurance',fontsize = 18)\n",
      "plt.title('ENTRIESn_hourly Comparioson between Rainy and Non-rainy days',fontsize = 22)"
     ],
     "language": "python",
     "metadata": {},
     "outputs": [
      {
       "metadata": {},
       "output_type": "pyout",
       "prompt_number": 121,
       "text": [
        "<matplotlib.text.Text at 0x10d970f10>"
       ]
      },
      {
       "metadata": {},
       "output_type": "display_data",
       "png": "[encoded data removed]",
       "text": [
        "<matplotlib.figure.Figure at 0x11baeb710>"
       ]
      }
     ],
     "prompt_number": 121
    },
    {
     "cell_type": "heading",
     "level": 6,
     "metadata": {},
     "source": [
      "Figure 3: the figure illustrates the differences in ENTRIESn_hourly distribution between Rainy and Non-rainy days. "
     ]
    },
    {
     "cell_type": "markdown",
     "metadata": {},
     "source": [
      "Figure 3 seems to indicate that there are more passangers in not-rainy days. BUT, is it really so? As I pointed out earlier in Section 1., the sample size can be a matter and the probability density can illustrate a different aspect. So I made the probability density cimparison."
     ]
    },
    {
     "cell_type": "heading",
     "level": 6,
     "metadata": {},
     "source": [
      "Make probability density of ENTRIESn_hourly based on rainy days and not-rainy days\n",
      "<a id='rain_prob'></a>"
     ]
    },
    {
     "cell_type": "code",
     "collapsed": false,
     "input": [
      "flag = True\n",
      "plt.hist(data[data['rain'] == 1]['ENTRIESn_hourly'].values,bins = 50,normed=flag,label = 'rain')\n",
      "plt.hist(data[data['rain'] == 0]['ENTRIESn_hourly'].values,bins = 50,normed=flag,alpha=0.5,label = 'no rain')\n",
      "plt.legend(fontsize = 18)\n",
      "plt.xlabel('Range of ENTRIESn_hourly',fontsize = 18)\n",
      "plt.ylabel('Occurance',fontsize = 18)\n",
      "plt.title('ENTRIESn_hourly Comparioson between Rainy and Non-rainy days',fontsize = 22)"
     ],
     "language": "python",
     "metadata": {},
     "outputs": [
      {
       "metadata": {},
       "output_type": "pyout",
       "prompt_number": 122,
       "text": [
        "<matplotlib.text.Text at 0x11b403190>"
       ]
      },
      {
       "metadata": {},
       "output_type": "display_data",
       "png": "[encoded data removed]",
       "text": [
        "<matplotlib.figure.Figure at 0x11b321210>"
       ]
      }
     ],
     "prompt_number": 122
    },
    {
     "cell_type": "heading",
     "level": 6,
     "metadata": {},
     "source": [
      "Figure 4: the figure shows the probability of *ENTRIESn_hourly* under rainy and not-rainy days."
     ]
    },
    {
     "cell_type": "markdown",
     "metadata": {},
     "source": [
      "Indeed, the two probability densities now look alike each other just like shown in Figure 2. Similar to the case of wind conditions, this suggests me that rain conditions have also less significant association with the ridership (see below)."
     ]
    },
    {
     "cell_type": "heading",
     "level": 6,
     "metadata": {},
     "source": [
      "Fit OLS with rain in addition to the improved features set\n",
      "<a id='OLS_rain'></a>"
     ]
    },
    {
     "cell_type": "code",
     "collapsed": false,
     "input": [
      "#new feature sets\n",
      "features = d[['day_week', 'hour', 'meantempi','weekday','rain']]  \n",
      "dummy_units1 = pd.get_dummies(d['UNIT'], prefix='unit')\n",
      "dummy_units2 = pd.get_dummies(d['conds'], prefix='conds')\n",
      "features = features.join(dummy_units1)\n",
      "features = features.join(dummy_units2)\n",
      "features, mu, sigma = normalize_features(features)\n",
      "m = len(y)\n",
      "features['ones'] = np.ones(m) # Add a column of constant (y intercept)\n",
      "\n",
      "# fit\n",
      "model = sm.OLS(y, features,)\n",
      "results = model.fit()\n",
      "xname = improved_features + ['rain']\n",
      "results.summary(xname = xname)"
     ],
     "language": "python",
     "metadata": {},
     "outputs": [
      {
       "html": [
        "<table class=\"simpletable\">\n",
        "<caption>OLS Regression Results</caption>\n",
        "<tr>\n",
        "  <th>Dep. Variable:</th>            <td>y</td>        <th>  R-squared:         </th>  <td>   0.487</td>  \n",
        "</tr>\n",
        "<tr>\n",
        "  <th>Model:</th>                   <td>OLS</td>       <th>  Adj. R-squared:    </th>  <td>   0.484</td>  \n",
        "</tr>\n",
        "<tr>\n",
        "  <th>Method:</th>             <td>Least Squares</td>  <th>  F-statistic:       </th>  <td>   157.8</td>  \n",
        "</tr>\n",
        "<tr>\n",
        "  <th>Date:</th>             <td>Sat, 14 Feb 2015</td> <th>  Prob (F-statistic):</th>   <td>  0.00</td>   \n",
        "</tr>\n",
        "<tr>\n",
        "  <th>Time:</th>                 <td>21:47:56</td>     <th>  Log-Likelihood:    </th> <td>-3.8707e+05</td>\n",
        "</tr>\n",
        "<tr>\n",
        "  <th>No. Observations:</th>      <td> 42649</td>      <th>  AIC:               </th>  <td>7.746e+05</td> \n",
        "</tr>\n",
        "<tr>\n",
        "  <th>Df Residuals:</th>          <td> 42393</td>      <th>  BIC:               </th>  <td>7.769e+05</td> \n",
        "</tr>\n",
        "<tr>\n",
        "  <th>Df Model:</th>              <td>   255</td>      <th>                     </th>      <td> </td>     \n",
        "</tr>\n",
        "<tr>\n",
        "  <th>Covariance Type:</th>      <td>nonrobust</td>    <th>                     </th>      <td> </td>     \n",
        "</tr>\n",
        "</table>\n",
        "<table class=\"simpletable\">\n",
        "<tr>\n",
        "      <td></td>         <th>coef</th>     <th>std err</th>      <th>t</th>      <th>P>|t|</th> <th>[95.0% Conf. Int.]</th> \n",
        "</tr>\n",
        "<tr>\n",
        "  <th>day_week</th>  <td>  125.5017</td> <td>   18.338</td> <td>    6.844</td> <td> 0.000</td> <td>   89.558   161.445</td>\n",
        "</tr>\n",
        "<tr>\n",
        "  <th>hour</th>      <td>  856.7819</td> <td>   10.419</td> <td>   82.230</td> <td> 0.000</td> <td>  836.360   877.204</td>\n",
        "</tr>\n",
        "<tr>\n",
        "  <th>meantempi</th> <td> -128.3947</td> <td>   12.156</td> <td>  -10.563</td> <td> 0.000</td> <td> -152.220  -104.570</td>\n",
        "</tr>\n",
        "<tr>\n",
        "  <th>weekday</th>   <td>  527.4804</td> <td>   18.201</td> <td>   28.981</td> <td> 0.000</td> <td>  491.806   563.155</td>\n",
        "</tr>\n",
        "<tr>\n",
        "  <th>intercept</th> <td>   29.2956</td> <td>   13.464</td> <td>    2.176</td> <td> 0.030</td> <td>    2.905    55.686</td>\n",
        "</tr>\n",
        "<tr>\n",
        "  <th>rain</th>      <td> 5.099e+13</td> <td>  3.1e+14</td> <td>    0.165</td> <td> 0.869</td> <td>-5.56e+14  6.58e+14</td>\n",
        "</tr>\n",
        "</table>\n",
        "<table class=\"simpletable\">\n",
        "<tr>\n",
        "  <th>Omnibus:</th>       <td>27552.290</td> <th>  Durbin-Watson:     </th>  <td>   1.620</td> \n",
        "</tr>\n",
        "<tr>\n",
        "  <th>Prob(Omnibus):</th>  <td> 0.000</td>   <th>  Jarque-Bera (JB):  </th> <td>827770.248</td>\n",
        "</tr>\n",
        "<tr>\n",
        "  <th>Skew:</th>           <td> 2.650</td>   <th>  Prob(JB):          </th>  <td>    0.00</td> \n",
        "</tr>\n",
        "<tr>\n",
        "  <th>Kurtosis:</th>       <td>23.922</td>   <th>  Cond. No.          </th>  <td>1.11e+15</td> \n",
        "</tr>\n",
        "</table>"
       ],
       "metadata": {},
       "output_type": "pyout",
       "prompt_number": 13,
       "text": [
        "<class 'statsmodels.iolib.summary.Summary'>\n",
        "\"\"\"\n",
        "                            OLS Regression Results                            \n",
        "==============================================================================\n",
        "Dep. Variable:                      y   R-squared:                       0.487\n",
        "Model:                            OLS   Adj. R-squared:                  0.484\n",
        "Method:                 Least Squares   F-statistic:                     157.8\n",
        "Date:                Sat, 14 Feb 2015   Prob (F-statistic):               0.00\n",
        "Time:                        21:47:56   Log-Likelihood:            -3.8707e+05\n",
        "No. Observations:               42649   AIC:                         7.746e+05\n",
        "Df Residuals:                   42393   BIC:                         7.769e+05\n",
        "Df Model:                         255                                         \n",
        "Covariance Type:            nonrobust                                         \n",
        "==============================================================================\n",
        "                 coef    std err          t      P>|t|      [95.0% Conf. Int.]\n",
        "------------------------------------------------------------------------------\n",
        "day_week     125.5017     18.338      6.844      0.000        89.558   161.445\n",
        "hour         856.7819     10.419     82.230      0.000       836.360   877.204\n",
        "meantempi   -128.3947     12.156    -10.563      0.000      -152.220  -104.570\n",
        "weekday      527.4804     18.201     28.981      0.000       491.806   563.155\n",
        "intercept     29.2956     13.464      2.176      0.030         2.905    55.686\n",
        "rain        5.099e+13    3.1e+14      0.165      0.869     -5.56e+14  6.58e+14\n",
        "==============================================================================\n",
        "Omnibus:                    27552.290   Durbin-Watson:                   1.620\n",
        "Prob(Omnibus):                  0.000   Jarque-Bera (JB):           827770.248\n",
        "Skew:                           2.650   Prob(JB):                         0.00\n",
        "Kurtosis:                      23.922   Cond. No.                     1.11e+15\n",
        "==============================================================================\n",
        "\n",
        "Warnings:\n",
        "[1] Standard Errors assume that the covariance matrix of the errors is correctly specified.\n",
        "[2] The smallest eigenvalue is 7.66e-26. This might indicate that there are\n",
        "strong multicollinearity problems or that the design matrix is singular.\n",
        "\"\"\""
       ]
      }
     ],
     "prompt_number": 13
    },
    {
     "cell_type": "markdown",
     "metadata": {},
     "source": [
      "Then, how does probability density look alike for those features with a significant relationship with the ridership? Here, I chose *weekday* to see the differences. "
     ]
    },
    {
     "cell_type": "heading",
     "level": 6,
     "metadata": {},
     "source": [
      "Make ordinary histogram and probability density of ENTRIESn_hourly based on weekday and weekend"
     ]
    },
    {
     "cell_type": "code",
     "collapsed": false,
     "input": [
      "weekday = data[data['weekday'] == 1]\n",
      "weekend = data[data['weekday'] == 0]\n",
      "\n",
      "for ind in [1,0]:\n",
      "    if ind == 0:\n",
      "        flag = False\n",
      "    else: \n",
      "        flag = True\n",
      "        \n",
      "    plt.subplot(2,1,ind)\n",
      "    plt.hist(weekday['ENTRIESn_hourly'].values,bins=60,normed=flag,label='weekday')\n",
      "    plt.hist(weekend['ENTRIESn_hourly'].values,bins=50,normed=flag,alpha=0.5,label='weekend')\n",
      "    plt.legend(fontsize = 18)\n",
      "    if ind == 1:\n",
      "        plt.xticks([])\n",
      "        plt.title('ENTRIESn_hourly Density Comparioson between Weekday and Weekend', fontsize = 18)\n",
      "        plt.ylabel('Occurance Density',fontsize = 18)\n",
      "    else:\n",
      "        plt.xlabel('Range of ENTRIESn_hourly',fontsize = 18)\n",
      "        plt.title('Ordinal Comparioson', fontsize = 18)\n",
      "        plt.ylabel('Occurance',fontsize = 18)\n",
      "    \n"
     ],
     "language": "python",
     "metadata": {},
     "outputs": [
      {
       "metadata": {},
       "output_type": "display_data",
       "png": "[encoded data removed]",
       "text": [
        "<matplotlib.figure.Figure at 0x1294b4b10>"
       ]
      }
     ],
     "prompt_number": 153
    },
    {
     "cell_type": "heading",
     "level": 6,
     "metadata": {},
     "source": [
      "Figure 5: the top figure illustrates the density comparison of ENTRIESn_hourly between weekday and weekend, and the bottom illustrates the ordinary comparison of the two distributions."
     ]
    },
    {
     "cell_type": "markdown",
     "metadata": {},
     "source": [
      "Unlike Figure 2 and Figure 4, the probability density of weekday and weekend looks noticeably different. Namely, for weekend, there is a higher probability observing shorter range of *ENTRIESn_hourly,* and the decay curvature is steeper.\n",
      "\n",
      "So the comparison by probability density can be more informative than that by ordinal distribution. However, this way of comparison is still less clear to me what is how different. To answer this question further, I made another figure to compare the ridership between weekday and weekend. "
     ]
    },
    {
     "cell_type": "heading",
     "level": 6,
     "metadata": {},
     "source": [
      "Another visualization of ENTRIESn_hourly based on weekday and weekend <a id='fig6'></a>"
     ]
    },
    {
     "cell_type": "code",
     "collapsed": false,
     "input": [
      "#sort ENTRIESn_hourly by 1) weekday and weekend and 2) hour\n",
      "container = {}\n",
      "\n",
      "for i in list(set(data['weekday'])):\n",
      "    \n",
      "    if i == 0:\n",
      "        label = 'weekend'\n",
      "    elif i == 1:\n",
      "        label = 'weekday'\n",
      "    \n",
      "    m = len(list(set(data['hour'])))\n",
      "    n = 2\n",
      "\n",
      "    store_values = np.zeros((m,n))\n",
      "    hourly = data[data['weekday'] == i].groupby(['hour'])\n",
      "    \n",
      "    for ind, (group, content) in enumerate(hourly):\n",
      "        ENTRIESn_hourly_mean = content['ENTRIESn_hourly'].mean()\n",
      "        ENTRIESn_hourly_se = ss.sem(content['ENTRIESn_hourly'].values)\n",
      "        store_values[ind] = [ENTRIESn_hourly_mean, ENTRIESn_hourly_se]\n",
      "        \n",
      "    container[label] = store_values\n",
      "\n",
      "plt.subplot()\n",
      "x =  list(set(data['hour']))\n",
      "    \n",
      "h1 = plt.scatter(x, container['weekday'][:,0],s = (container['weekday'][:,1]),c='r')\n",
      "plt.plot(x, container['weekday'][:,0],c='r')\n",
      "h2 = plt.scatter(x, container['weekend'][:,0],s = (container['weekend'][:,1]))\n",
      "plt.plot(x, container['weekend'][:,0],c='b')\n",
      "\n",
      "plt.legend([h1, h2], [\"weekday\", \"weekend\"],fontsize = 18,loc=0)\n",
      "plt.xlabel('Hour',fontsize = 18)\n",
      "plt.ylabel('Mean ENTRIESn_hourly',fontsize = 18)\n",
      "plt.title('Hourly difference of mean ENTRIESn_hourly between weekday and weekend',fontsize = 22)"
     ],
     "language": "python",
     "metadata": {},
     "outputs": [
      {
       "metadata": {},
       "output_type": "pyout",
       "prompt_number": 158,
       "text": [
        "<matplotlib.text.Text at 0x12a36f1d0>"
       ]
      },
      {
       "metadata": {},
       "output_type": "display_data",
       "png": "[encoded data removed]",
       "text": [
        "<matplotlib.figure.Figure at 0x129f25050>"
       ]
      }
     ],
     "prompt_number": 158
    },
    {
     "cell_type": "heading",
     "level": 6,
     "metadata": {},
     "source": [
      "Figure 6: the figure illustrates the hourly-averaged ENTRIESn_hourly between weekday and weekend. The size of circle is proportional to the standard error of ENTRIESn_hourly. "
     ]
    },
    {
     "cell_type": "markdown",
     "metadata": {},
     "source": [
      "(problem 3.2) Figure 6 clearly illustrates how *ENTRIESn_hourly* of weekday and weekend differs. Specifically, in average, the NYC subway usage peaks in the morning (shorter ENTRIESn_hourly = shorter time span from one passanger to another), and the ridership decreases as the time proceeds with a different rate depending on whether it is a weekday or not. \n"
     ]
    },
    {
     "cell_type": "heading",
     "level": 2,
     "metadata": {},
     "source": [
      "Section 4. Conclusion"
     ]
    },
    {
     "cell_type": "markdown",
     "metadata": {},
     "source": [
      "(problem 4.1 & 4.2) Based on my analysis, I will say that the ridership with rain conditions is not as significantly associated with each other compared with that with the other factors (such as *hour*, *weekday* and ones from [the improved features set](#features)). First, the probability density of the ridership based on rain conditions suggested no remarkable difference (see [Figure 4](#rain_prob)). Furthermore, the coefficient of *rain* feature from the linear model was 1-fold smaller than the other features (see [**Fit OLS with rain in addition to the improved features set**](#OLS_rain)). Therefore, though rainy days may reduce the ridership, its significance is not considerable.\n",
      "\n"
     ]
    },
    {
     "cell_type": "heading",
     "level": 2,
     "metadata": {},
     "source": [
      "Section 5. Reflection"
     ]
    },
    {
     "cell_type": "markdown",
     "metadata": {},
     "source": [
      "(problem 5.1) There are many shortcomings in this analysis. \n",
      "\n",
      "1) the real ridership cannot be simply predicted by a linear function. In fact, Section 2. proved that the OLS model with the current features was not doing a good job. The real world is far more complicated, and there may be many other factors or interactions that I need to consider. For example, there may be an interaction among features (e.g. the ridership of rain in the morning and clear in the night might exhibit a different pattern from that of rain all day, $etc.$). In short, simple features with a linear regression can only capture the tip of iceburg, and better predictions require more sophisticated modeling and feature selections. \n",
      "\n",
      "2) I have only analyzed one-month-worth data. If I were to make the subway usage more predictable, I will consider seasonal effects (e.g. summer is a sightseeing season, thus the ridership may significantly differ from other seasons, $etc.$) and the history of subway usage (e.g. is the ridership an increasing trend, $etc.$). Long story in short, I will analyze data for a longer period so that other factors may become apparent.\n",
      "\n",
      "(problem 5.2) To improve the prediction, I realize that the dependency of *ENTRIESn_hourly* to *hour* is somewhat quadratic or cubic (see [Figure 6](#fig6)). So I introduced *hour*$^2$ and *hour*$^3$ in addition to [the improved features set](#features)."
     ]
    },
    {
     "cell_type": "code",
     "collapsed": false,
     "input": [
      "#new feature sets\n",
      "features = d[['day_week', 'hour', 'meantempi','weekday']]  \n",
      "dummy_units1 = pd.get_dummies(d['UNIT'], prefix='unit')\n",
      "dummy_units2 = pd.get_dummies(d['conds'], prefix='conds')\n",
      "features['hour2'] = d['hour']**2\n",
      "features['hour3'] = d['hour']**3\n",
      "features = features.join(dummy_units1)\n",
      "features = features.join(dummy_units2)\n",
      "features, mu, sigma = normalize_features(features)\n",
      "m = len(y)\n",
      "features['intercept'] = np.ones(m) # Add a column of constant (y intercept)\n",
      "\n",
      "# fit\n",
      "model = sm.OLS(y, features,)\n",
      "results = model.fit()\n",
      "improved_features = ['day_week', 'hour', 'hour2', 'hour3','meantempi','weekday','intercept']\n",
      "results.summary(xname = improved_features)"
     ],
     "language": "python",
     "metadata": {},
     "outputs": [
      {
       "html": [
        "<table class=\"simpletable\">\n",
        "<caption>OLS Regression Results</caption>\n",
        "<tr>\n",
        "  <th>Dep. Variable:</th>            <td>y</td>        <th>  R-squared:         </th>  <td>   0.514</td>  \n",
        "</tr>\n",
        "<tr>\n",
        "  <th>Model:</th>                   <td>OLS</td>       <th>  Adj. R-squared:    </th>  <td>   0.512</td>  \n",
        "</tr>\n",
        "<tr>\n",
        "  <th>Method:</th>             <td>Least Squares</td>  <th>  F-statistic:       </th>  <td>   175.5</td>  \n",
        "</tr>\n",
        "<tr>\n",
        "  <th>Date:</th>             <td>Sat, 14 Feb 2015</td> <th>  Prob (F-statistic):</th>   <td>  0.00</td>   \n",
        "</tr>\n",
        "<tr>\n",
        "  <th>Time:</th>                 <td>22:53:16</td>     <th>  Log-Likelihood:    </th> <td>-3.8589e+05</td>\n",
        "</tr>\n",
        "<tr>\n",
        "  <th>No. Observations:</th>      <td> 42649</td>      <th>  AIC:               </th>  <td>7.723e+05</td> \n",
        "</tr>\n",
        "<tr>\n",
        "  <th>Df Residuals:</th>          <td> 42392</td>      <th>  BIC:               </th>  <td>7.745e+05</td> \n",
        "</tr>\n",
        "<tr>\n",
        "  <th>Df Model:</th>              <td>   256</td>      <th>                     </th>      <td> </td>     \n",
        "</tr>\n",
        "<tr>\n",
        "  <th>Covariance Type:</th>      <td>nonrobust</td>    <th>                     </th>      <td> </td>     \n",
        "</tr>\n",
        "</table>\n",
        "<table class=\"simpletable\">\n",
        "<tr>\n",
        "      <td></td>         <th>coef</th>     <th>std err</th>      <th>t</th>      <th>P>|t|</th> <th>[95.0% Conf. Int.]</th> \n",
        "</tr>\n",
        "<tr>\n",
        "  <th>day_week</th>  <td>  124.1080</td> <td>   17.766</td> <td>    6.986</td> <td> 0.000</td> <td>   89.285   158.931</td>\n",
        "</tr>\n",
        "<tr>\n",
        "  <th>hour</th>      <td>-3122.2019</td> <td>   82.651</td> <td>  -37.776</td> <td> 0.000</td> <td>-3284.200 -2960.204</td>\n",
        "</tr>\n",
        "<tr>\n",
        "  <th>hour2</th>     <td> -117.3751</td> <td>   11.766</td> <td>   -9.975</td> <td> 0.000</td> <td> -140.437   -94.313</td>\n",
        "</tr>\n",
        "<tr>\n",
        "  <th>hour3</th>     <td>  533.1647</td> <td>   17.529</td> <td>   30.416</td> <td> 0.000</td> <td>  498.808   567.522</td>\n",
        "</tr>\n",
        "<tr>\n",
        "  <th>meantempi</th> <td> 9714.5396</td> <td>  212.346</td> <td>   45.749</td> <td> 0.000</td> <td> 9298.337  1.01e+04</td>\n",
        "</tr>\n",
        "<tr>\n",
        "  <th>weekday</th>   <td>-5898.6049</td> <td>  139.650</td> <td>  -42.238</td> <td> 0.000</td> <td>-6172.322 -5624.888</td>\n",
        "</tr>\n",
        "<tr>\n",
        "  <th>intercept</th> <td>-1.931e+14</td> <td> 2.87e+14</td> <td>   -0.672</td> <td> 0.501</td> <td>-7.56e+14   3.7e+14</td>\n",
        "</tr>\n",
        "</table>\n",
        "<table class=\"simpletable\">\n",
        "<tr>\n",
        "  <th>Omnibus:</th>       <td>30025.453</td> <th>  Durbin-Watson:     </th>  <td>   1.612</td>  \n",
        "</tr>\n",
        "<tr>\n",
        "  <th>Prob(Omnibus):</th>  <td> 0.000</td>   <th>  Jarque-Bera (JB):  </th> <td>1013129.327</td>\n",
        "</tr>\n",
        "<tr>\n",
        "  <th>Skew:</th>           <td> 2.974</td>   <th>  Prob(JB):          </th>  <td>    0.00</td>  \n",
        "</tr>\n",
        "<tr>\n",
        "  <th>Kurtosis:</th>       <td>26.124</td>   <th>  Cond. No.          </th>  <td>1.16e+15</td>  \n",
        "</tr>\n",
        "</table>"
       ],
       "metadata": {},
       "output_type": "pyout",
       "prompt_number": 13,
       "text": [
        "<class 'statsmodels.iolib.summary.Summary'>\n",
        "\"\"\"\n",
        "                            OLS Regression Results                            \n",
        "==============================================================================\n",
        "Dep. Variable:                      y   R-squared:                       0.514\n",
        "Model:                            OLS   Adj. R-squared:                  0.512\n",
        "Method:                 Least Squares   F-statistic:                     175.5\n",
        "Date:                Sat, 14 Feb 2015   Prob (F-statistic):               0.00\n",
        "Time:                        22:53:16   Log-Likelihood:            -3.8589e+05\n",
        "No. Observations:               42649   AIC:                         7.723e+05\n",
        "Df Residuals:                   42392   BIC:                         7.745e+05\n",
        "Df Model:                         256                                         \n",
        "Covariance Type:            nonrobust                                         \n",
        "==============================================================================\n",
        "                 coef    std err          t      P>|t|      [95.0% Conf. Int.]\n",
        "------------------------------------------------------------------------------\n",
        "day_week     124.1080     17.766      6.986      0.000        89.285   158.931\n",
        "hour       -3122.2019     82.651    -37.776      0.000     -3284.200 -2960.204\n",
        "hour2       -117.3751     11.766     -9.975      0.000      -140.437   -94.313\n",
        "hour3        533.1647     17.529     30.416      0.000       498.808   567.522\n",
        "meantempi   9714.5396    212.346     45.749      0.000      9298.337  1.01e+04\n",
        "weekday    -5898.6049    139.650    -42.238      0.000     -6172.322 -5624.888\n",
        "intercept  -1.931e+14   2.87e+14     -0.672      0.501     -7.56e+14   3.7e+14\n",
        "==============================================================================\n",
        "Omnibus:                    30025.453   Durbin-Watson:                   1.612\n",
        "Prob(Omnibus):                  0.000   Jarque-Bera (JB):          1013129.327\n",
        "Skew:                           2.974   Prob(JB):                         0.00\n",
        "Kurtosis:                      26.124   Cond. No.                     1.16e+15\n",
        "==============================================================================\n",
        "\n",
        "Warnings:\n",
        "[1] Standard Errors assume that the covariance matrix of the errors is correctly specified.\n",
        "[2] The smallest eigenvalue is 9.31e-26. This might indicate that there are\n",
        "strong multicollinearity problems or that the design matrix is singular.\n",
        "\"\"\""
       ]
      }
     ],
     "prompt_number": 13
    },
    {
     "cell_type": "markdown",
     "metadata": {},
     "source": [
      "Now, I observe a quite improvement. Thus, as I mentioned earlier, many other factors (interaction with a feature itself, interactions among features, and $etc.$) exist to influence the ridership. Thus, more sophisticated analysis is required if I need to predict it with higher accuracy.\n",
      "\n",
      "Lastly, I want to briefly share my thoughts for why rain or wind conditions did not show the significant association with the ridership as opposed to my initial thought. I think that because the NYC subway is so essential for people living there that they will use the subway regardless of rain or weather. Furthermore, I know the traffic jam can be sometimes very significant in NYC, again, people like to take the subway anyway. That is why weather information in general is not useful to infer the ridership compared with time.\n",
      "\n",
      "For now, this is the end of my analysis. Thank you so much for reading this, and I hope you enjoyed this. "
     ]
    },
    {
     "cell_type": "code",
     "collapsed": false,
     "input": [
      "from IPython.core.display import HTML\n",
      "\n",
      "\n",
      "def css_styling():\n",
      "    styles = open(\"custom.css\", \"r\").read()\n",
      "    return HTML(styles)\n",
      "css_styling()"
     ],
     "language": "python",
     "metadata": {},
     "outputs": [
      {
       "html": [
        "<style>\n",
        "    @font-face {\n",
        "        font-family: \"Computer Modern\";\n",
        "        src: url('http://9dbb143991406a7c655e-aa5fcb0a5a4ec34cff238a2d56ca4144.r56.cf5.rackcdn.com/cmunss.otf');\n",
        "    }\n",
        "    @font-face {\n",
        "        font-family: \"Computer Modern\";\n",
        "        font-weight: bold;\n",
        "        src: url('http://9dbb143991406a7c655e-aa5fcb0a5a4ec34cff238a2d56ca4144.r56.cf5.rackcdn.com/cmunsx.otf');\n",
        "    }\n",
        "    @font-face {\n",
        "        font-family: \"Computer Modern\";\n",
        "        font-style: oblique;\n",
        "        src: url('http://9dbb143991406a7c655e-aa5fcb0a5a4ec34cff238a2d56ca4144.r56.cf5.rackcdn.com/cmunsi.otf');\n",
        "    }\n",
        "    @font-face {\n",
        "        font-family: \"Computer Modern\";\n",
        "        font-weight: bold;\n",
        "        font-style: oblique;\n",
        "        src: url('http://9dbb143991406a7c655e-aa5fcb0a5a4ec34cff238a2d56ca4144.r56.cf5.rackcdn.com/cmunso.otf');\n",
        "    }\n",
        "    div.cell{\n",
        "        width:800px;\n",
        "        margin-left:16% !important;\n",
        "        margin-right:auto;\n",
        "    }\n",
        "    h1 {\n",
        "        font-family: Helvetica, serif;\n",
        "    }\n",
        "    h4{\n",
        "        margin-top:12px;\n",
        "        margin-bottom: 3px;\n",
        "       }\n",
        "    div.text_cell_render{\n",
        "        font-family: Computer Modern, \"Helvetica Neue\", Arial, Helvetica, Geneva, sans-serif;\n",
        "        line-height: 145%;\n",
        "        font-size: 130%;\n",
        "        width:800px;\n",
        "        margin-left:auto;\n",
        "        margin-right:auto;\n",
        "    }\n",
        "    .CodeMirror{\n",
        "            font-family: \"Source Code Pro\", source-code-pro,Consolas, monospace;\n",
        "    }\n",
        "    .prompt{\n",
        "        display: None;\n",
        "    }\n",
        "    .text_cell_render h5 {\n",
        "        font-weight: 300;\n",
        "        font-size: 22pt;\n",
        "        color: #4057A1;\n",
        "        font-style: italic;\n",
        "        margin-bottom: .5em;\n",
        "        margin-top: 0.5em;\n",
        "        display: block;\n",
        "    }\n",
        "    \n",
        "    .warning{\n",
        "        color: rgb( 240, 20, 20 )\n",
        "        }  \n",
        "</style>\n",
        "<script>\n",
        "    MathJax.Hub.Config({\n",
        "                        TeX: {\n",
        "                           extensions: [\"AMSmath.js\"]\n",
        "                           },\n",
        "                tex2jax: {\n",
        "                    inlineMath: [ ['$','$'], [\"\\\\(\",\"\\\\)\"] ],\n",
        "                    displayMath: [ ['$$','$$'], [\"\\\\[\",\"\\\\]\"] ]\n",
        "                },\n",
        "                displayAlign: 'center', // Change this to 'center' to center equations.\n",
        "                \"HTML-CSS\": {\n",
        "                    styles: {'.MathJax_Display': {\"margin\": 4}}\n",
        "                }\n",
        "        });\n",
        "</script>\n"
       ],
       "metadata": {},
       "output_type": "pyout",
       "prompt_number": 161,
       "text": [
        "<IPython.core.display.HTML at 0x1290ab390>"
       ]
      }
     ],
     "prompt_number": 161
    },
    {
     "cell_type": "code",
     "collapsed": false,
     "input": [
      "class PDF(object):\n",
      "  def __init__(self, pdf, size=(200,200)):\n",
      "    self.pdf = pdf\n",
      "    self.size = size\n",
      "\n",
      "  def _repr_html_(self):\n",
      "    return '<iframe src={0} width={1[0]} height={1[1]}></iframe>'.format(self.pdf, self.size)\n",
      "\n",
      "  def _repr_latex_(self):\n",
      "    return r'\\includegraphics[width=1.0\\textwidth]{{{0}}}'.format(self.pdf)"
     ],
     "language": "python",
     "metadata": {},
     "outputs": [],
     "prompt_number": 8
    }
   ],
   "metadata": {}
  }
 ]
}